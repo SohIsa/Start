{
  "nbformat": 4,
  "nbformat_minor": 0,
  "metadata": {
    "colab": {
      "name": "ListaPilha.ipynb",
      "provenance": [],
      "authorship_tag": "ABX9TyPEFBe1rEpT/gLxENrTZ6IV",
      "include_colab_link": true
    },
    "kernelspec": {
      "name": "python3",
      "display_name": "Python 3"
    }
  },
  "cells": [
    {
      "cell_type": "markdown",
      "metadata": {
        "id": "view-in-github",
        "colab_type": "text"
      },
      "source": [
        "<a href=\"https://colab.research.google.com/github/SohIsa/Start/blob/master/ListaPilha.ipynb\" target=\"_parent\"><img src=\"https://colab.research.google.com/assets/colab-badge.svg\" alt=\"Open In Colab\"/></a>"
      ]
    },
    {
      "cell_type": "markdown",
      "metadata": {
        "id": "RQa_wzd5DIJm"
      },
      "source": [
        "1. Escreva um programa que determine se dada cadeia de caracteres é um palíndromo ou\n",
        "não, isto é, se pode ser lida da mesma maneira para frente ou para trás. Em cada ponto\n",
        "você pode ler somente um caractere da cadeia dada; não use uma matriz para primeiro\n",
        "armazenar esta cadeia e então analisá-la (exceto, possivelmente, em uma implementação\n",
        "de pilha). Considere usar pilhas múltiplas.\n"
      ]
    },
    {
      "cell_type": "code",
      "metadata": {
        "id": "lJCQQzppqCbE"
      },
      "source": [
        "class Pilha:\n",
        "    def __init__(self):\n",
        "        self.__dados = []\n",
        "    def get_pilha(self):\n",
        "        return self.__dados\n",
        "    def push (self,novoValor):\n",
        "        return self.__dados.append(novoValor)\n",
        "    def topo(self):\n",
        "        return (self.__dados[len(self.__dados)-1])\n",
        "    def backspace(self):\n",
        "        return self.__dados.pop()\n",
        "    def esvaziar (self):\n",
        "        while (len(self.__dados)!=0):\n",
        "            self.__dados.pop()\n",
        "    def tamanhoPilha(self):\n",
        "        return len(self.__dados)\n",
        "    def inverte(self):\n",
        "        pilhaN = []\n",
        "        for i in range(len(self.__dados)):\n",
        "            b = self.__dados.pop()\n",
        "            pilhaN.append(b)\n",
        "        return pilhaN\n",
        "    def palindromo(self):\n",
        "        prison = Pilha ()\n",
        "        song = Pilha ()\n",
        "        vazio = 0\n",
        "        letra = self\n",
        "        for i in letra.lower():\n",
        "          if i == \" \":\n",
        "            vazio+=1\n",
        "          else:\n",
        "            prison.push(i)\n",
        "        for i in letra[::-1].lower():\n",
        "          if i == \" \":\n",
        "            vazio+=1\n",
        "          else:\n",
        "            song.push(i)\n",
        "        if prison.get_pilha() == song.get_pilha():\n",
        "          return True\n",
        "        else:\n",
        "          return False"
      ],
      "execution_count": 25,
      "outputs": []
    },
    {
      "cell_type": "code",
      "metadata": {
        "id": "pULcA6N36T6L",
        "outputId": "d1376e40-3e89-452d-85d1-8c23658e88b7",
        "colab": {
          "base_uri": "https://localhost:8080/",
          "height": 34
        }
      },
      "source": [
        "#1\n",
        "letra = ('A mala nada na lama')\n",
        "print (palindromo(letra))"
      ],
      "execution_count": 27,
      "outputs": [
        {
          "output_type": "stream",
          "text": [
            "False\n"
          ],
          "name": "stdout"
        }
      ]
    },
    {
      "cell_type": "markdown",
      "metadata": {
        "id": "0I3dfiO2Ddw1"
      },
      "source": [
        "2. Faça um programa que crie, alimente e inverta a ordem dos elementos na pilha S criada\n",
        "pelo usuário, por meio do uso de:\n",
        "\n",
        "a. usando pilhas adicionais;\n",
        "\n",
        "b. usando uma fila adicional;"
      ]
    },
    {
      "cell_type": "code",
      "metadata": {
        "id": "tcav7TjADnpl"
      },
      "source": [
        "class Fila:\n",
        "    def __init__(self):\n",
        "        self.__dados=[]\n",
        "    def getFila (self):\n",
        "        return self.__dados\n",
        "    def novoValor(self, novoValor):\n",
        "        return self.__dados.append(novoValor)\n",
        "    def remocerdado(self):\n",
        "        return self.__dados.pop()\n",
        "    def verso(self):\n",
        "        filete=[]\n",
        "        for i in range(len(self.__dados)):\n",
        "            a=self.__dados.pop(0)\n",
        "            filete.append(a)\n",
        "        return a"
      ],
      "execution_count": 29,
      "outputs": []
    },
    {
      "cell_type": "code",
      "metadata": {
        "id": "KEjUizDkDqSt",
        "outputId": "0a410f0f-0446-408e-cfa6-1272b731227e",
        "colab": {
          "base_uri": "https://localhost:8080/",
          "height": 50
        }
      },
      "source": [
        "def main ():\n",
        "    fome = Pilha()\n",
        "    grandfome = Pilha()\n",
        "    emof = Fila()\n",
        "    fome.push('azul')\n",
        "    fome.push('rosa')\n",
        "    fome.push('roxo')\n",
        "\n",
        "    while fome.get_pilha():\n",
        "        grandfome.push(fome.backspace())\n",
        "    print (grandfome.get_pilha())\n",
        "    while grandfome.get_pilha():\n",
        "        emof.novoValor(grandfome.backspace())\n",
        "    print (emof.getFila())\n",
        "\n",
        "\n",
        "main()"
      ],
      "execution_count": 32,
      "outputs": [
        {
          "output_type": "stream",
          "text": [
            "['roxo', 'rosa', 'azul']\n",
            "['azul', 'rosa', 'roxo']\n"
          ],
          "name": "stdout"
        }
      ]
    }
  ]
}